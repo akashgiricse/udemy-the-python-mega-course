{
 "cells": [
  {
   "cell_type": "markdown",
   "metadata": {},
   "source": [
    "# Opening and reading a text file"
   ]
  },
  {
   "cell_type": "code",
   "execution_count": 1,
   "metadata": {},
   "outputs": [
    {
     "name": "stdout",
     "output_type": "stream",
     "text": [
      "<class '_io.TextIOWrapper'>\n"
     ]
    }
   ],
   "source": [
    "file = open('example.txt', 'r')\n",
    "print(type(file))"
   ]
  },
  {
   "cell_type": "code",
   "execution_count": 6,
   "metadata": {},
   "outputs": [
    {
     "name": "stdout",
     "output_type": "stream",
     "text": [
      "Line 1\n",
      "Line 2\n",
      "Line 3\n",
      "Line 4\n",
      "Line 5\n",
      "Line 6\n",
      "<class 'str'>\n",
      "[]\n"
     ]
    }
   ],
   "source": [
    "file = open('example.txt', 'r')\n",
    "# the .read() method put the pointer at the end of the text file.\n",
    "content = file.read()\n",
    "print(content)\n",
    "print(type(content))\n",
    "content = file.readlines()\n",
    "print(content)"
   ]
  },
  {
   "cell_type": "code",
   "execution_count": 7,
   "metadata": {},
   "outputs": [
    {
     "name": "stdout",
     "output_type": "stream",
     "text": [
      "['Line 1\\n', 'Line 2\\n', 'Line 3\\n', 'Line 4\\n', 'Line 5\\n', 'Line 6']\n"
     ]
    }
   ],
   "source": [
    "file = open('example.txt', 'r')\n",
    "# the .read() method put the pointer at the end of the text file.\n",
    "content = file.read()\n",
    "file.seek(0) # .seek() method put the pointer at the given index\n",
    "content = file.readlines()\n",
    "print(content)"
   ]
  },
  {
   "cell_type": "code",
   "execution_count": 2,
   "metadata": {},
   "outputs": [
    {
     "name": "stdout",
     "output_type": "stream",
     "text": [
      "['Line 1', 'Line 2', 'Line 3', 'Line 4', 'Line 5', 'Line 6']\n"
     ]
    }
   ],
   "source": [
    "file = open('example.txt', 'r')\n",
    "content = file.readlines()\n",
    "content = [i.rstrip(\"\\n\") for i in content]\n",
    "print(content)\n",
    "file.close()"
   ]
  },
  {
   "cell_type": "markdown",
   "metadata": {},
   "source": [
    "# Writing Text to a Text file"
   ]
  },
  {
   "cell_type": "code",
   "execution_count": 5,
   "metadata": {},
   "outputs": [],
   "source": [
    "file = open('example1.txt', 'w') # 'w' method is not an append method.\n",
    "file.write(\"Line 1\")\n",
    "file.close()"
   ]
  },
  {
   "cell_type": "code",
   "execution_count": 6,
   "metadata": {
    "collapsed": true
   },
   "outputs": [],
   "source": [
    "file = open('example2.txt', 'w')\n",
    "file.write(\"Line 1\\n\")\n",
    "file.write(\"Line 2\")\n",
    "file.close()"
   ]
  },
  {
   "cell_type": "code",
   "execution_count": 7,
   "metadata": {
    "collapsed": true
   },
   "outputs": [],
   "source": [
    "file = open('example3.txt', 'w')\n",
    "l = [\"Line 1\",\"Line 2\",\"Line 3\"]\n",
    "for item in l:\n",
    "    file.write(item + \"\\n\")\n",
    "file.close()"
   ]
  },
  {
   "cell_type": "code",
   "execution_count": 8,
   "metadata": {
    "collapsed": true
   },
   "outputs": [],
   "source": [
    "file = open('example3.txt', 'a')\n",
    "file.write('Line 4')\n",
    "file.close()"
   ]
  },
  {
   "cell_type": "markdown",
   "metadata": {},
   "source": [
    "# Some tips\n",
    "\n",
    "1. *'r'* Opens a file for read only. The file pointer is placed at the beginning of the file. This is default mode.\n",
    "2. *'r+'* Opens a file for both reading and writing. The file pointer is placed at the beginning.\n",
    "3. *'w'* Open a file for write only. Overwrites the file if file already exist. If the file does not exist, create a new file for writing. \n",
    "4. *'w+'* Opens a file for both reading and writing.\n",
    "5. *'a'* Opens a file for appending content.\n",
    "6. *'a+'* Opens a file for both appending and reading. The file pointer is at the end of the file if the file already exists."
   ]
  },
  {
   "cell_type": "markdown",
   "metadata": {},
   "source": [
    "# With Statement"
   ]
  },
  {
   "cell_type": "code",
   "execution_count": 10,
   "metadata": {},
   "outputs": [
    {
     "name": "stdout",
     "output_type": "stream",
     "text": [
      "Line 1\n",
      "Line 2\n",
      "Line 3\n",
      "Line 4\n",
      "Line 5\n"
     ]
    }
   ],
   "source": [
    "with open('example3.txt', 'a+') as file:\n",
    "    file.seek(0)\n",
    "    content = file.read()\n",
    "    file.write(\"\\nLine 5\")\n",
    "    \n",
    "print(content)"
   ]
  }
 ],
 "metadata": {
  "kernelspec": {
   "display_name": "Python 3",
   "language": "python",
   "name": "python3"
  },
  "language_info": {
   "codemirror_mode": {
    "name": "ipython",
    "version": 3
   },
   "file_extension": ".py",
   "mimetype": "text/x-python",
   "name": "python",
   "nbconvert_exporter": "python",
   "pygments_lexer": "ipython3",
   "version": "3.6.3"
  }
 },
 "nbformat": 4,
 "nbformat_minor": 2
}
