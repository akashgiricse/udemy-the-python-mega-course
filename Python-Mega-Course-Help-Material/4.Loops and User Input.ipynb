{
 "cells": [
  {
   "cell_type": "markdown",
   "metadata": {},
   "source": [
    "# For Loop"
   ]
  },
  {
   "cell_type": "code",
   "execution_count": 1,
   "metadata": {},
   "outputs": [
    {
     "name": "stdout",
     "output_type": "stream",
     "text": [
      "me@gmail.com\n",
      "you@gmail.com\n",
      "they@gmail.com\n"
     ]
    }
   ],
   "source": [
    "emails = ['me@gmail.com', 'you@gmail.com', 'they@gmail.com']\n",
    "for email in emails:\n",
    "    print(email)"
   ]
  },
  {
   "cell_type": "code",
   "execution_count": 2,
   "metadata": {},
   "outputs": [
    {
     "name": "stdout",
     "output_type": "stream",
     "text": [
      "me@gmail.com\n",
      "you@gmail.com\n",
      "they@gmail.com\n"
     ]
    }
   ],
   "source": [
    "emails = ['me@gmail.com', 'you@gmail.com', 'they@gmail.com', 'hmmm@yahoo.com']\n",
    "for item in emails:\n",
    "    if 'gmail' in item:\n",
    "        print(item)"
   ]
  },
  {
   "cell_type": "markdown",
   "metadata": {},
   "source": [
    "# User Input"
   ]
  },
  {
   "cell_type": "code",
   "execution_count": 4,
   "metadata": {},
   "outputs": [
    {
     "name": "stdout",
     "output_type": "stream",
     "text": [
      "Enter rate: 45\n",
      "Enter euros: 5\n"
     ]
    },
    {
     "data": {
      "text/plain": [
       "225"
      ]
     },
     "execution_count": 4,
     "metadata": {},
     "output_type": "execute_result"
    }
   ],
   "source": [
    "def currency_converter(rate, euros):\n",
    "    dollars = euros*rate\n",
    "    return dollars\n",
    "\n",
    "r = int(input(\"Enter rate: \"))\n",
    "e = int(input(\"Enter euros: \"))\n",
    "\n",
    "currency_converter(r,e)"
   ]
  },
  {
   "cell_type": "markdown",
   "metadata": {},
   "source": [
    "# While loop"
   ]
  },
  {
   "cell_type": "code",
   "execution_count": 5,
   "metadata": {},
   "outputs": [
    {
     "name": "stdout",
     "output_type": "stream",
     "text": [
      "Enter password: python122\n",
      "Sorry try again.\n",
      "Enter password: pythonalskdasd\n",
      "Sorry try again.\n",
      "Enter password: python123\n",
      "You are logged in!\n"
     ]
    }
   ],
   "source": [
    "password = ''\n",
    "while password != 'python123':\n",
    "    password = input(\"Enter password: \")\n",
    "    if password == 'python123':\n",
    "        print(\"You are logged in!\")\n",
    "    else:\n",
    "        print(\"Sorry try again.\")"
   ]
  },
  {
   "cell_type": "markdown",
   "metadata": {},
   "source": [
    "### For loop for iterating more than one list"
   ]
  },
  {
   "cell_type": "code",
   "execution_count": 6,
   "metadata": {},
   "outputs": [
    {
     "name": "stdout",
     "output_type": "stream",
     "text": [
      "james gmail\n",
      "john hotmail\n",
      "jack yahoo\n"
     ]
    }
   ],
   "source": [
    "names = ['james', 'john', 'jack']\n",
    "email_domain = ['gmail', 'hotmail', 'yahoo']\n",
    "\n",
    "for i, j in zip(names, email_domain):\n",
    "    print(i,j)"
   ]
  }
 ],
 "metadata": {
  "kernelspec": {
   "display_name": "Python 3",
   "language": "python",
   "name": "python3"
  },
  "language_info": {
   "codemirror_mode": {
    "name": "ipython",
    "version": 3
   },
   "file_extension": ".py",
   "mimetype": "text/x-python",
   "name": "python",
   "nbconvert_exporter": "python",
   "pygments_lexer": "ipython3",
   "version": "3.6.3"
  }
 },
 "nbformat": 4,
 "nbformat_minor": 2
}
