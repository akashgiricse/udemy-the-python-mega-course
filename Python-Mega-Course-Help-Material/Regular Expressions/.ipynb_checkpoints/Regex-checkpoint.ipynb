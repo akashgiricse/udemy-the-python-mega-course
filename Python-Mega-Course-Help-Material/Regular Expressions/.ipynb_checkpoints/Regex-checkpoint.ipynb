{
 "cells": [
  {
   "cell_type": "markdown",
   "metadata": {},
   "source": [
    "# Finding Patterns of Text with Regex"
   ]
  },
  {
   "cell_type": "code",
   "execution_count": 2,
   "metadata": {},
   "outputs": [
    {
     "name": "stdout",
     "output_type": "stream",
     "text": [
      "Phone number found is: 452-155-122\n"
     ]
    }
   ],
   "source": [
    "import re\n",
    "\n",
    "\n",
    "phoneNumRegex = re.compile(r'\\d\\d\\d-\\d\\d\\d-\\d\\d\\d')            # phoneNubRegex containsa Regex object\n",
    "matchObject = phoneNumRegex.search('My number is 452-155-122') # returns Match Object and\n",
    "                                                               # match object have a group() method that will return\n",
    "                                                               # the actual matched text\n",
    "print('Phone number found is: ' + matchObject.group())"
   ]
  },
  {
   "cell_type": "code",
   "execution_count": 4,
   "metadata": {},
   "outputs": [
    {
     "name": "stdout",
     "output_type": "stream",
     "text": [
      "Phone number group 1 is: 452\n",
      "Phone number group 2 is: 155-122\n",
      "Phone number found is: 452-155-122\n"
     ]
    }
   ],
   "source": [
    "import re\n",
    "\n",
    "phoneNumRegex = re.compile(r'(\\d\\d\\d)-(\\d\\d\\d-\\d\\d\\d)') # adding parantheses will create group in the regex\n",
    "matchObject = phoneNumRegex.search('My number is 452-155-122')\n",
    "print('Phone number group 1 is: ' + matchObject.group(1))\n",
    "print('Phone number group 2 is: ' + matchObject.group(2))\n",
    "print('Phone number found is: ' + matchObject.group())"
   ]
  },
  {
   "cell_type": "code",
   "execution_count": 8,
   "metadata": {},
   "outputs": [
    {
     "name": "stdout",
     "output_type": "stream",
     "text": [
      "452\n",
      "155-122\n"
     ]
    }
   ],
   "source": [
    "import re\n",
    "\n",
    "phoneNumRegex = re.compile(r'(\\d\\d\\d)-(\\d\\d\\d-\\d\\d\\d)') \n",
    "matchObject = phoneNumRegex.search('My number is 452-155-122')\n",
    "areaCode, mainNumber = matchObject.groups() # retrieve all groups at once, note the plural form \"groups\"\n",
    "                                            # groups() returns a tuple of multiple values hence we can use multiple \n",
    "                                            # assignment\n",
    "print(areaCode)\n",
    "print(mainNumber)"
   ]
  },
  {
   "cell_type": "code",
   "execution_count": 9,
   "metadata": {},
   "outputs": [
    {
     "name": "stdout",
     "output_type": "stream",
     "text": [
      "(452)\n",
      "155-122\n"
     ]
    }
   ],
   "source": [
    "import re\n",
    "\n",
    "# to escape the (and) characters we use back slash. \n",
    "phoneNumRegex = re.compile(r'(\\(\\d\\d\\d\\))-(\\d\\d\\d-\\d\\d\\d)') # the \\(and\\) escape character in the raw string passed\n",
    "                                                            # to re.compile() will match actual paranthesis characters\n",
    "matchObject = phoneNumRegex.search('My number is (452)-155-122')\n",
    "areaCode, mainNumber = matchObject.groups()\n",
    "print(areaCode)\n",
    "print(mainNumber)"
   ]
  },
  {
   "cell_type": "markdown",
   "metadata": {},
   "source": [
    "## Matching Multiple Groups with the Pipe"
   ]
  },
  {
   "cell_type": "code",
   "execution_count": 10,
   "metadata": {},
   "outputs": [
    {
     "name": "stdout",
     "output_type": "stream",
     "text": [
      "Batman\n"
     ]
    }
   ],
   "source": [
    "heroRegex = re.compile(r'Batman|Tina Fey') # pipe character i.e. | will match either Batman or Tina Fey\n",
    "mo1 = heroRegex.search('Batman Tina Fey')  # When both Batman and Tina Fey occur in the searched string,the first\n",
    "                                           # occurence of matching text will be returned to Match object.\n",
    "print(mo1.group())"
   ]
  },
  {
   "cell_type": "code",
   "execution_count": 2,
   "metadata": {},
   "outputs": [
    {
     "name": "stdout",
     "output_type": "stream",
     "text": [
      "Batmobile\n",
      "mobile\n"
     ]
    }
   ],
   "source": [
    "import re\n",
    "\n",
    "\n",
    "batRegex = re.compile(r'Bat(man|mobile|copter|bat)') # using parentheses will match Bat prefix \n",
    "mo3 = batRegex.search('Batmobile and Batman lost a wheel')\n",
    "print(mo3.group())\n",
    "print(mo3.group(1))"
   ]
  },
  {
   "cell_type": "markdown",
   "metadata": {},
   "source": [
    "## Optional matching with Question Mark"
   ]
  },
  {
   "cell_type": "code",
   "execution_count": 5,
   "metadata": {},
   "outputs": [
    {
     "name": "stdout",
     "output_type": "stream",
     "text": [
      "Batman\n",
      "Batwoman\n"
     ]
    }
   ],
   "source": [
    "import re\n",
    "\n",
    "batRegex = re.compile(r'Bat(wo)?man')\n",
    "mo1 = batRegex.search('The adventures of Batman')\n",
    "mo2 = batRegex.search('Th Adventures of Batwoman')\n",
    "print(mo1.group())\n",
    "print(mo2.group())"
   ]
  },
  {
   "cell_type": "markdown",
   "metadata": {},
   "source": [
    "## Matching Zero or More with the Star"
   ]
  },
  {
   "cell_type": "code",
   "execution_count": 7,
   "metadata": {},
   "outputs": [
    {
     "name": "stdout",
     "output_type": "stream",
     "text": [
      "Batwowowowowowoman\n",
      "Batman\n"
     ]
    }
   ],
   "source": [
    "import re\n",
    "batRegex = re.compile(r'Bat(wo)*man') # match zero or more 'wo'\n",
    "mo1 = batRegex.search('Hello Batwowowowowowoman')\n",
    "mo2 = batRegex.search('Hello Batman')\n",
    "print(mo1.group())\n",
    "print(mo2.group())"
   ]
  },
  {
   "cell_type": "markdown",
   "metadata": {},
   "source": [
    "## Matching one or more with Plus"
   ]
  },
  {
   "cell_type": "code",
   "execution_count": 13,
   "metadata": {},
   "outputs": [
    {
     "name": "stdout",
     "output_type": "stream",
     "text": [
      "Batwowowowowowoman\n",
      "None\n"
     ]
    }
   ],
   "source": [
    "import re\n",
    "batRegex = re.compile(r'Bat(wo)+man') # match one or more 'wo'\n",
    "mo1 = batRegex.search('Hello Batwowowowowowoman')\n",
    "mo2 = batRegex.search('Hello Batman')\n",
    "print(mo1.group())\n",
    "print(mo2)"
   ]
  },
  {
   "cell_type": "markdown",
   "metadata": {},
   "source": [
    "## Matching Specific Repetitions with Curly Brackets"
   ]
  },
  {
   "cell_type": "code",
   "execution_count": 14,
   "metadata": {},
   "outputs": [
    {
     "name": "stdout",
     "output_type": "stream",
     "text": [
      "HaHaHa\n"
     ]
    }
   ],
   "source": [
    "import re\n",
    "\n",
    "haRegex = re.compile(r'(Ha){3}') # {,3}, {3,}, {3,5} allowed\n",
    "mo1 = haRegex.search('HaHaHa')\n",
    "print(mo1.group())"
   ]
  },
  {
   "cell_type": "markdown",
   "metadata": {},
   "source": [
    "# Greedy and Nongreedy Matching"
   ]
  },
  {
   "cell_type": "code",
   "execution_count": null,
   "metadata": {
    "collapsed": true
   },
   "outputs": [],
   "source": []
  }
 ],
 "metadata": {
  "kernelspec": {
   "display_name": "Python 3",
   "language": "python",
   "name": "python3"
  },
  "language_info": {
   "codemirror_mode": {
    "name": "ipython",
    "version": 3
   },
   "file_extension": ".py",
   "mimetype": "text/x-python",
   "name": "python",
   "nbconvert_exporter": "python",
   "pygments_lexer": "ipython3",
   "version": "3.6.3"
  }
 },
 "nbformat": 4,
 "nbformat_minor": 2
}
